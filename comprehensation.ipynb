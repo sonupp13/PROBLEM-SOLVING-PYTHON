{
  "nbformat": 4,
  "nbformat_minor": 0,
  "metadata": {
    "colab": {
      "provenance": [],
      "authorship_tag": "ABX9TyPrJtwS9lcCk2Tw+Jdsq1zw",
      "include_colab_link": true
    },
    "kernelspec": {
      "name": "python3",
      "display_name": "Python 3"
    },
    "language_info": {
      "name": "python"
    }
  },
  "cells": [
    {
      "cell_type": "markdown",
      "metadata": {
        "id": "view-in-github",
        "colab_type": "text"
      },
      "source": [
        "<a href=\"https://colab.research.google.com/github/sonupp13/PROBLEM-SOLVING-PYTHON/blob/main/comprehensation.ipynb\" target=\"_parent\"><img src=\"https://colab.research.google.com/assets/colab-badge.svg\" alt=\"Open In Colab\"/></a>"
      ]
    },
    {
      "cell_type": "markdown",
      "source": [
        "list comprehensation"
      ],
      "metadata": {
        "id": "rogIBslvMk-z"
      }
    },
    {
      "cell_type": "code",
      "execution_count": null,
      "metadata": {
        "id": "cCPpcVlXMdHu",
        "colab": {
          "base_uri": "https://localhost:8080/"
        },
        "outputId": "f404ce7e-f377-434a-95cb-76d9f443bdf0"
      },
      "outputs": [
        {
          "output_type": "stream",
          "name": "stdout",
          "text": [
            "[2, 4, 6, 8, 10]\n"
          ]
        }
      ],
      "source": [
        "numbers = [1, 2, 3, 4, 5, 6, 7, 8, 9, 10]\n",
        "d=[x for x in numbers if x%2==0]\n",
        "print(d)"
      ]
    },
    {
      "cell_type": "code",
      "source": [
        "s=[x**2 for x in range (1,10)]\n",
        "print(s)\n"
      ],
      "metadata": {
        "colab": {
          "base_uri": "https://localhost:8080/"
        },
        "id": "QJOlqi0XOph_",
        "outputId": "7be19894-32fc-444f-d340-2192c72d6f91"
      },
      "execution_count": null,
      "outputs": [
        {
          "output_type": "stream",
          "name": "stdout",
          "text": [
            "[1, 4, 9, 16, 25, 36, 49, 64, 81]\n"
          ]
        }
      ]
    },
    {
      "cell_type": "code",
      "source": [
        "fruits = [\"apple\", \"banana\", \"cherry\", \"kiwi\", \"mango\"]\n",
        "s=[i for i in fruits if \"a\" in i]\n",
        "print(s)"
      ],
      "metadata": {
        "colab": {
          "base_uri": "https://localhost:8080/"
        },
        "id": "TLqa8eq3O7eN",
        "outputId": "7601bd6a-d191-4a2a-c8d5-9fe920e5571f"
      },
      "execution_count": null,
      "outputs": [
        {
          "output_type": "stream",
          "name": "stdout",
          "text": [
            "['apple', 'banana', 'mango']\n"
          ]
        }
      ]
    },
    {
      "cell_type": "code",
      "source": [
        "fruits = [\"apple\", \"banana\", \"cherry\", \"kiwi\", \"mango\"]\n",
        "s=[x for x in fruits if x!=\"apple\"]\n",
        "print(s)"
      ],
      "metadata": {
        "colab": {
          "base_uri": "https://localhost:8080/"
        },
        "id": "pbGiqixxPtH4",
        "outputId": "63ebbe3e-4630-4463-a3b1-73fbf4961729"
      },
      "execution_count": null,
      "outputs": [
        {
          "output_type": "stream",
          "name": "stdout",
          "text": [
            "['banana', 'cherry', 'kiwi', 'mango']\n"
          ]
        }
      ]
    },
    {
      "cell_type": "code",
      "source": [
        "words = ['hello', 'world', 'python']\n",
        "capitalized = [word.upper() for word in words]\n",
        "print(capitalized)\n"
      ],
      "metadata": {
        "id": "Z9cpFw0-mKXE",
        "colab": {
          "base_uri": "https://localhost:8080/"
        },
        "outputId": "c12e4207-f7b5-4669-d20d-32de2881fa0c"
      },
      "execution_count": null,
      "outputs": [
        {
          "output_type": "stream",
          "name": "stdout",
          "text": [
            "['HELLO', 'WORLD', 'PYTHON']\n"
          ]
        }
      ]
    },
    {
      "cell_type": "code",
      "source": [
        "words = ['HELLO', 'WORLD', 'PYTHON']\n",
        "small = [word.lower() for word in words]\n",
        "print(small)\n"
      ],
      "metadata": {
        "colab": {
          "base_uri": "https://localhost:8080/"
        },
        "id": "wWSGMYW_H1fa",
        "outputId": "dd076b7a-8acd-4fbd-b18e-2759dc9a24e8"
      },
      "execution_count": null,
      "outputs": [
        {
          "output_type": "stream",
          "name": "stdout",
          "text": [
            "['hello', 'world', 'python']\n"
          ]
        }
      ]
    },
    {
      "cell_type": "code",
      "source": [
        "s=[1,2,3,4,5,6,7,8,9,10]\n",
        "d=[x**2 for x in s]\n",
        "print(d)"
      ],
      "metadata": {
        "colab": {
          "base_uri": "https://localhost:8080/"
        },
        "id": "4TGhj1uvIMdk",
        "outputId": "8c2f6833-a4dd-4036-eb5e-00683bb14c79"
      },
      "execution_count": null,
      "outputs": [
        {
          "output_type": "stream",
          "name": "stdout",
          "text": [
            "[1, 4, 9, 16, 25, 36, 49, 64, 81, 100]\n"
          ]
        }
      ]
    }
  ]
}
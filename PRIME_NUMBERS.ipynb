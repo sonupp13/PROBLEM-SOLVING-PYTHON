{
  "nbformat": 4,
  "nbformat_minor": 0,
  "metadata": {
    "colab": {
      "provenance": [],
      "authorship_tag": "ABX9TyNcITaTV8wJ7PJlC3Ldh1iO",
      "include_colab_link": true
    },
    "kernelspec": {
      "name": "python3",
      "display_name": "Python 3"
    },
    "language_info": {
      "name": "python"
    }
  },
  "cells": [
    {
      "cell_type": "markdown",
      "metadata": {
        "id": "view-in-github",
        "colab_type": "text"
      },
      "source": [
        "<a href=\"https://colab.research.google.com/github/sonupp13/PROBLEM-SOLVING-PYTHON/blob/main/PRIME_NUMBERS.ipynb\" target=\"_parent\"><img src=\"https://colab.research.google.com/assets/colab-badge.svg\" alt=\"Open In Colab\"/></a>"
      ]
    },
    {
      "cell_type": "code",
      "execution_count": 13,
      "metadata": {
        "colab": {
          "base_uri": "https://localhost:8080/"
        },
        "id": "JLbvznkw4vil",
        "outputId": "605d3fb5-11fa-4b35-c81a-5cc7a95b5053"
      },
      "outputs": [
        {
          "output_type": "stream",
          "name": "stdout",
          "text": [
            "5\n",
            "n is prime\n"
          ]
        }
      ],
      "source": [
        "n= int(input())\n",
        "if (n==1):\n",
        "  print('n is not a prime number')\n",
        "if (n==2):\n",
        "  print('n is a prime number')\n",
        "for i in range(2,n):\n",
        "  if (n%i==0):\n",
        "    print('n is not a prime number')\n",
        "    break\n",
        "else:\n",
        "    print('n is prime')"
      ]
    }
  ]
}